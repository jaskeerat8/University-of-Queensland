{
 "cells": [
  {
   "cell_type": "code",
   "execution_count": 1,
   "id": "d51f3333",
   "metadata": {},
   "outputs": [],
   "source": [
    "import pandas as pd\n",
    "import numpy as np\n",
    "import warnings\n",
    "from sklearn.model_selection import cross_val_score, cross_val_predict, StratifiedKFold, train_test_split\n",
    "from sklearn.metrics import f1_score\n",
    "from sklearn.tree import DecisionTreeClassifier\n",
    "from sklearn.naive_bayes import GaussianNB\n",
    "from sklearn.neighbors import LocalOutlierFactor, KNeighborsClassifier\n",
    "from sklearn.ensemble import IsolationForest, RandomForestClassifier, BaggingClassifier, VotingClassifier\n",
    "\n",
    "warnings.filterwarnings(\"ignore\")\n",
    "pd.set_option('display.max_columns', None)\n",
    "pd.set_option('display.max_rows', None)"
   ]
  },
  {
   "cell_type": "markdown",
   "id": "114286d4",
   "metadata": {},
   "source": [
    "# Imputation"
   ]
  },
  {
   "cell_type": "code",
   "execution_count": 2,
   "id": "72af187f",
   "metadata": {},
   "outputs": [],
   "source": [
    "def imputation_full(df, numerical_columns, nominal_columns):\n",
    "    for col in df.columns:\n",
    "        if(col in numerical_columns):\n",
    "            df[col].fillna(df[col].mean(), inplace = True)\n",
    "        elif(col in nominal_columns):\n",
    "            df[col] = df[col].replace(np.nan, df[col].mode()[0])\n",
    "        else:\n",
    "            pass\n",
    "    return df"
   ]
  },
  {
   "cell_type": "code",
   "execution_count": 3,
   "id": "1bb6a8de",
   "metadata": {},
   "outputs": [],
   "source": [
    "def imputation_class(df, numerical_columns, nominal_columns):\n",
    "    \n",
    "    class_values = list(df[\"Target (Col 107)\"].unique())\n",
    "    \n",
    "    for col in df.columns:\n",
    "        if(col in numerical_columns):\n",
    "            for c in class_values:\n",
    "                mean_value = df[df[\"Target (Col 107)\"] == c][col].mean()\n",
    "                df.loc[ ((df[\"Target (Col 107)\"] == c) & (df[col].isnull())), col] = mean_value\n",
    "        elif(col in nominal_columns):\n",
    "            for c in class_values:\n",
    "                mode_value = df[df[\"Target (Col 107)\"] == c][col].mode()[0]\n",
    "                df.loc[((df[\"Target (Col 107)\"] == c) & (df[col].isnull())), col] = mode_value\n",
    "        else:\n",
    "            pass\n",
    "    return df"
   ]
  },
  {
   "cell_type": "markdown",
   "id": "a29d8d85",
   "metadata": {},
   "source": [
    "# Standardization"
   ]
  },
  {
   "cell_type": "code",
   "execution_count": 4,
   "id": "ba4df34c",
   "metadata": {},
   "outputs": [],
   "source": [
    "def min_max(df, numerical_columns):\n",
    "    df[numerical_columns] = df[numerical_columns].apply(lambda x: (x - x.min()) / (x.max() - x.min()))\n",
    "    return df"
   ]
  },
  {
   "cell_type": "code",
   "execution_count": 5,
   "id": "e736b543",
   "metadata": {},
   "outputs": [],
   "source": [
    "def z_score(df, numerical_columns):\n",
    "    df[numerical_columns] = df[numerical_columns].apply(lambda x: (x - x.mean()) / x.std())\n",
    "    return df"
   ]
  },
  {
   "cell_type": "markdown",
   "id": "567960a6",
   "metadata": {},
   "source": [
    "# Outlier Detection"
   ]
  },
  {
   "cell_type": "code",
   "execution_count": 6,
   "id": "205843b5",
   "metadata": {},
   "outputs": [],
   "source": [
    "def isolation_forest(df, numerical_columns, nominal_columns):\n",
    "    model = IsolationForest(n_estimators=1000, max_samples='auto', contamination=float(0.2), random_state = 42)\n",
    "    model.fit(df[numerical_columns + nominal_columns])\n",
    "    \n",
    "    df[\"anomaly_score\"] = model.predict(df[numerical_columns + nominal_columns])\n",
    "    df[\"anomaly_score\"] = df[\"anomaly_score\"].map({1:0, -1:1})\n",
    "    df = df[df[\"anomaly_score\"] == 0]\n",
    "    df = df.drop(\"anomaly_score\", axis=1)\n",
    "    return df"
   ]
  },
  {
   "cell_type": "code",
   "execution_count": 7,
   "id": "930903da",
   "metadata": {},
   "outputs": [],
   "source": [
    "def statistical(df, numerical_columns, nominal_columns):\n",
    "    df[\"anomaly_score\"] = 0\n",
    "    for col in numerical_columns:\n",
    "        upper = df[col].mean() + (2*df[col].std())\n",
    "        lower = df[col].mean() - (2*df[col].std())\n",
    "        df.loc[((df[col] < lower) | (df[col] > upper)), \"anomaly_score\"] = 1\n",
    "\n",
    "    df = df[df[\"anomaly_score\"] == 0]\n",
    "    df = df.drop(\"anomaly_score\", axis=1)\n",
    "    return df"
   ]
  },
  {
   "cell_type": "code",
   "execution_count": 8,
   "id": "7f012d5b",
   "metadata": {},
   "outputs": [],
   "source": [
    "def lof(df, numerical_columns, nominal_columns):\n",
    "    model = LocalOutlierFactor(n_neighbors = 100, novelty = False)\n",
    "    \n",
    "    df[\"anomaly_score\"] = model.fit_predict(df[numerical_columns + nominal_columns])\n",
    "    df[\"anomaly_score\"] = df[\"anomaly_score\"].map({1:0, -1:1})\n",
    "    df = df[df[\"anomaly_score\"] == 0]\n",
    "    df = df.drop(\"anomaly_score\", axis=1)\n",
    "    return df"
   ]
  },
  {
   "cell_type": "markdown",
   "id": "6a1b4994",
   "metadata": {},
   "source": [
    "# Feature Selection"
   ]
  },
  {
   "cell_type": "code",
   "execution_count": 9,
   "id": "4351a910",
   "metadata": {},
   "outputs": [],
   "source": [
    "def feature_columns(df):\n",
    "    df_col = df.corr().loc[\"Target (Col 107)\"].to_frame()\n",
    "    df_col[\"Target (Col 107)\"] = df_col[\"Target (Col 107)\"].abs()\n",
    "    df_col = list(df_col[df_col[\"Target (Col 107)\"] > 0.1].index)\n",
    "    return df[df_col]"
   ]
  },
  {
   "cell_type": "code",
   "execution_count": 10,
   "id": "0b5090bd",
   "metadata": {},
   "outputs": [],
   "source": [
    "def feature_no(df):\n",
    "    return df"
   ]
  },
  {
   "cell_type": "markdown",
   "id": "4a43ccc2",
   "metadata": {},
   "source": [
    "# Model Classifiers"
   ]
  },
  {
   "cell_type": "code",
   "execution_count": 11,
   "id": "feb110ce",
   "metadata": {},
   "outputs": [],
   "source": [
    "def dtree(df):\n",
    "    X = df.drop(\"Target (Col 107)\", axis = 1)\n",
    "    y = df[\"Target (Col 107)\"]\n",
    "    \n",
    "    cv = StratifiedKFold(n_splits = 10, random_state = 42, shuffle = True)\n",
    "    cv.get_n_splits(X, y)\n",
    "\n",
    "    model = DecisionTreeClassifier(max_depth = 3, max_leaf_nodes = 5, random_state = 42)\n",
    "    score = cross_val_score(model, X, y, cv = cv, scoring = \"f1\").mean()\n",
    "    \n",
    "    return score"
   ]
  },
  {
   "cell_type": "code",
   "execution_count": 12,
   "id": "9383a6fd",
   "metadata": {},
   "outputs": [],
   "source": [
    "def rforest(df):\n",
    "    X = df.drop(\"Target (Col 107)\", axis = 1)\n",
    "    y = df[\"Target (Col 107)\"]\n",
    "    \n",
    "    cv = StratifiedKFold(n_splits = 10, random_state = 42, shuffle = True)\n",
    "    cv.get_n_splits(X, y)\n",
    "\n",
    "    model = RandomForestClassifier(n_estimators = 165, n_jobs = -1, max_features = None, criterion = \"entropy\", random_state = 42)\n",
    "    score = cross_val_score(model, X, y, cv = cv, scoring = \"f1\").mean()\n",
    "    \n",
    "    return score"
   ]
  },
  {
   "cell_type": "code",
   "execution_count": 13,
   "id": "d29ea02b",
   "metadata": {},
   "outputs": [],
   "source": [
    "def gnaivebayes(df):\n",
    "    X = df.drop(\"Target (Col 107)\", axis = 1)\n",
    "    y = df[\"Target (Col 107)\"]\n",
    "    \n",
    "    cv = StratifiedKFold(n_splits = 10, random_state = 42, shuffle = True)\n",
    "    cv.get_n_splits(X, y)\n",
    "\n",
    "    model = GaussianNB()\n",
    "    score = cross_val_score(model, X, y, cv = cv, scoring = \"f1\").mean()\n",
    "    \n",
    "    return score"
   ]
  },
  {
   "cell_type": "code",
   "execution_count": 14,
   "id": "4cc035ca",
   "metadata": {},
   "outputs": [],
   "source": [
    "def knn(df):\n",
    "    X = df.drop(\"Target (Col 107)\", axis = 1)\n",
    "    y = df[\"Target (Col 107)\"]\n",
    "    \n",
    "    cv = StratifiedKFold(n_splits = 10, random_state = 42, shuffle = True)\n",
    "    cv.get_n_splits(X, y)\n",
    "\n",
    "    model = KNeighborsClassifier(n_neighbors = 3, metric = \"manhattan\")\n",
    "    score = cross_val_score(model, X, y, cv = cv, scoring = \"f1\").mean()\n",
    "    \n",
    "    return score"
   ]
  },
  {
   "cell_type": "code",
   "execution_count": 15,
   "id": "c59cc9af",
   "metadata": {},
   "outputs": [],
   "source": [
    "def baggingensemble(df):\n",
    "    X = df.drop(\"Target (Col 107)\", axis = 1)\n",
    "    y = df[\"Target (Col 107)\"]\n",
    "    \n",
    "    cv = StratifiedKFold(n_splits = 10, random_state = 42, shuffle = True)\n",
    "    cv.get_n_splits(X, y)\n",
    "    \n",
    "    model = BaggingClassifier(KNeighborsClassifier(n_neighbors = 3, metric = \"manhattan\"), max_samples=0.7, n_estimators = 100,\n",
    "                              random_state = 42, oob_score = True)\n",
    "    \n",
    "    score = cross_val_score(model, X, y, cv = cv, scoring = \"f1\").mean()\n",
    "    \n",
    "    return score"
   ]
  },
  {
   "cell_type": "code",
   "execution_count": 16,
   "id": "6acc3328",
   "metadata": {},
   "outputs": [],
   "source": [
    "def voting(df):\n",
    "    X = df.drop(\"Target (Col 107)\", axis = 1)\n",
    "    y = df[\"Target (Col 107)\"]\n",
    "    \n",
    "    cv = StratifiedKFold(n_splits = 10, random_state = 42, shuffle = True)\n",
    "    cv.get_n_splits(X, y)\n",
    "    \n",
    "    model1 = RandomForestClassifier(n_estimators = 165, n_jobs = -1, max_features = None, criterion = \"entropy\", random_state = 42)\n",
    "    model2 = GaussianNB()\n",
    "    model3 = BaggingClassifier(KNeighborsClassifier(n_neighbors = 3, metric = \"manhattan\"), max_samples=0.7, n_estimators = 100,\n",
    "                              random_state = 42, oob_score = True)\n",
    "    \n",
    "    model = VotingClassifier(estimators=[('rf', model1), ('nb', model2), ('knn', model3)], voting='hard')\n",
    "    score = cross_val_score(model, X, y, cv = cv, scoring = \"f1\").mean()\n",
    "    \n",
    "    return score"
   ]
  },
  {
   "cell_type": "markdown",
   "id": "180c4505",
   "metadata": {},
   "source": [
    "# Main Function"
   ]
  },
  {
   "cell_type": "code",
   "execution_count": 17,
   "id": "b5110613",
   "metadata": {
    "scrolled": true
   },
   "outputs": [
    {
     "name": "stdout",
     "output_type": "stream",
     "text": [
      "Top 10 classifiers methods and preprocessing techniques:\n"
     ]
    },
    {
     "data": {
      "text/html": [
       "<div>\n",
       "<style scoped>\n",
       "    .dataframe tbody tr th:only-of-type {\n",
       "        vertical-align: middle;\n",
       "    }\n",
       "\n",
       "    .dataframe tbody tr th {\n",
       "        vertical-align: top;\n",
       "    }\n",
       "\n",
       "    .dataframe thead th {\n",
       "        text-align: right;\n",
       "    }\n",
       "</style>\n",
       "<table border=\"1\" class=\"dataframe\">\n",
       "  <thead>\n",
       "    <tr style=\"text-align: right;\">\n",
       "      <th></th>\n",
       "      <th>f1</th>\n",
       "      <th>imputation_method</th>\n",
       "      <th>standardization</th>\n",
       "      <th>outlier_detection</th>\n",
       "      <th>feature_selection</th>\n",
       "      <th>Classifier</th>\n",
       "    </tr>\n",
       "  </thead>\n",
       "  <tbody>\n",
       "    <tr>\n",
       "      <th>0</th>\n",
       "      <td>0.869337</td>\n",
       "      <td>imputation_class</td>\n",
       "      <td>min_max</td>\n",
       "      <td>isolation_forest</td>\n",
       "      <td>feature_no</td>\n",
       "      <td>knn</td>\n",
       "    </tr>\n",
       "    <tr>\n",
       "      <th>1</th>\n",
       "      <td>0.865223</td>\n",
       "      <td>imputation_class</td>\n",
       "      <td>min_max</td>\n",
       "      <td>isolation_forest</td>\n",
       "      <td>feature_no</td>\n",
       "      <td>baggingensemble</td>\n",
       "    </tr>\n",
       "    <tr>\n",
       "      <th>2</th>\n",
       "      <td>0.86274</td>\n",
       "      <td>imputation_class</td>\n",
       "      <td>min_max</td>\n",
       "      <td>lof</td>\n",
       "      <td>feature_columns</td>\n",
       "      <td>voting</td>\n",
       "    </tr>\n",
       "    <tr>\n",
       "      <th>3</th>\n",
       "      <td>0.858947</td>\n",
       "      <td>imputation_class</td>\n",
       "      <td>min_max</td>\n",
       "      <td>lof</td>\n",
       "      <td>feature_columns</td>\n",
       "      <td>baggingensemble</td>\n",
       "    </tr>\n",
       "    <tr>\n",
       "      <th>4</th>\n",
       "      <td>0.856839</td>\n",
       "      <td>imputation_class</td>\n",
       "      <td>min_max</td>\n",
       "      <td>isolation_forest</td>\n",
       "      <td>feature_no</td>\n",
       "      <td>voting</td>\n",
       "    </tr>\n",
       "    <tr>\n",
       "      <th>5</th>\n",
       "      <td>0.856839</td>\n",
       "      <td>imputation_class</td>\n",
       "      <td>min_max</td>\n",
       "      <td>isolation_forest</td>\n",
       "      <td>feature_columns</td>\n",
       "      <td>gnaivebayes</td>\n",
       "    </tr>\n",
       "    <tr>\n",
       "      <th>6</th>\n",
       "      <td>0.854131</td>\n",
       "      <td>imputation_class</td>\n",
       "      <td>z_score</td>\n",
       "      <td>isolation_forest</td>\n",
       "      <td>feature_columns</td>\n",
       "      <td>gnaivebayes</td>\n",
       "    </tr>\n",
       "    <tr>\n",
       "      <th>7</th>\n",
       "      <td>0.852815</td>\n",
       "      <td>imputation_class</td>\n",
       "      <td>z_score</td>\n",
       "      <td>isolation_forest</td>\n",
       "      <td>feature_no</td>\n",
       "      <td>rforest</td>\n",
       "    </tr>\n",
       "    <tr>\n",
       "      <th>8</th>\n",
       "      <td>0.852815</td>\n",
       "      <td>imputation_class</td>\n",
       "      <td>z_score</td>\n",
       "      <td>isolation_forest</td>\n",
       "      <td>feature_no</td>\n",
       "      <td>voting</td>\n",
       "    </tr>\n",
       "    <tr>\n",
       "      <th>9</th>\n",
       "      <td>0.844792</td>\n",
       "      <td>imputation_class</td>\n",
       "      <td>min_max</td>\n",
       "      <td>lof</td>\n",
       "      <td>feature_columns</td>\n",
       "      <td>dtree</td>\n",
       "    </tr>\n",
       "  </tbody>\n",
       "</table>\n",
       "</div>"
      ],
      "text/plain": [
       "         f1 imputation_method standardization outlier_detection  \\\n",
       "0  0.869337  imputation_class         min_max  isolation_forest   \n",
       "1  0.865223  imputation_class         min_max  isolation_forest   \n",
       "2   0.86274  imputation_class         min_max               lof   \n",
       "3  0.858947  imputation_class         min_max               lof   \n",
       "4  0.856839  imputation_class         min_max  isolation_forest   \n",
       "5  0.856839  imputation_class         min_max  isolation_forest   \n",
       "6  0.854131  imputation_class         z_score  isolation_forest   \n",
       "7  0.852815  imputation_class         z_score  isolation_forest   \n",
       "8  0.852815  imputation_class         z_score  isolation_forest   \n",
       "9  0.844792  imputation_class         min_max               lof   \n",
       "\n",
       "  feature_selection       Classifier  \n",
       "0        feature_no              knn  \n",
       "1        feature_no  baggingensemble  \n",
       "2   feature_columns           voting  \n",
       "3   feature_columns  baggingensemble  \n",
       "4        feature_no           voting  \n",
       "5   feature_columns      gnaivebayes  \n",
       "6   feature_columns      gnaivebayes  \n",
       "7        feature_no          rforest  \n",
       "8        feature_no           voting  \n",
       "9   feature_columns            dtree  "
      ]
     },
     "metadata": {},
     "output_type": "display_data"
    }
   ],
   "source": [
    "#Reading Data\n",
    "main_df = pd.read_csv(\"./Ecoli.csv\")\n",
    "\n",
    "#Defining numerical columns, nominal columns and target values\n",
    "numerical_columns = [i for i in main_df.columns if \"Num\" in i]\n",
    "nominal_columns = [i for i in main_df.columns if \"Nom\" in i]\n",
    "class_values = list(main_df[\"Target (Col 107)\"].unique())\n",
    "\n",
    "# Dropping columns that have a high percentage of nulls\n",
    "high_null_col_df = (main_df.isnull().sum() * 100 / len(main_df)).to_frame()\n",
    "high_null_col = list(high_null_col_df[high_null_col_df[0] > 10].index)\n",
    "main_df = main_df.drop(high_null_col, axis=1)\n",
    "\n",
    "#Results as DataFrame\n",
    "result_df = pd.DataFrame(columns = [\"f1\", \"imputation_method\", \"standardization\", \"outlier_detection\", \"feature_selection\", \"Classifier\"])\n",
    "\n",
    "#Performing pre-processing\n",
    "for impute in [imputation_full, imputation_class]:\n",
    "    impute_df = impute(main_df.copy(), numerical_columns, nominal_columns)\n",
    "    \n",
    "    for standardization in [min_max, z_score]:\n",
    "        standard_df = standardization(impute_df.copy(), numerical_columns)\n",
    "    \n",
    "        for outlier in [isolation_forest, statistical, lof]:\n",
    "            outlier_df = outlier(standard_df.copy(), numerical_columns, nominal_columns)\n",
    "            \n",
    "            for feature in [feature_columns, feature_no]:\n",
    "                feature_df = feature(outlier_df.copy())\n",
    "                \n",
    "                for classifier in [dtree, rforest, gnaivebayes, knn, baggingensemble, voting]:\n",
    "                    score_cv = classifier(feature_df.copy())\n",
    "                    result_df = result_df.append({\"f1\" : score_cv, \n",
    "                                                  \"imputation_method\" : impute.__name__, \n",
    "                                                  \"standardization\" : standardization.__name__, \n",
    "                                                  \"outlier_detection\" : outlier.__name__, \n",
    "                                                  \"feature_selection\": feature.__name__, \n",
    "                                                  \"Classifier\" : classifier.__name__}, \n",
    "                                                 ignore_index = True)\n",
    "\n",
    "result_df.sort_values(by=[\"f1\", \"feature_selection\", \"standardization\", \"imputation_method\"], \n",
    "                      ascending = [False, False, True, True], inplace = True)\n",
    "result_df.reset_index(drop=True, inplace=True)\n",
    "\n",
    "print(\"Top 10 classifiers methods and preprocessing techniques:\")\n",
    "display(result_df.head(10))"
   ]
  },
  {
   "cell_type": "code",
   "execution_count": 18,
   "id": "505ac5ad",
   "metadata": {},
   "outputs": [
    {
     "name": "stdout",
     "output_type": "stream",
     "text": [
      "Best Techniques Identified:\n",
      "{'f1': 0.8693370681605975, 'imputation_method': 'imputation_class', 'standardization': 'min_max', 'outlier_detection': 'isolation_forest', 'feature_selection': 'feature_no', 'Classifier': 'knn'}\n",
      "Accuracy calculated on Test Data 0.982 \n",
      "F1 calculated on Test Data 0.869\n"
     ]
    }
   ],
   "source": [
    "#Make Predictions on test data, accuracy and f1 score on training data\n",
    "print(\"Best Techniques Identified:\")\n",
    "result_dict = result_df.iloc[0].to_dict()\n",
    "print(result_dict)\n",
    "\n",
    "final_df = locals()[ result_dict[\"imputation_method\"] ](main_df, numerical_columns, nominal_columns)\n",
    "final_df = locals()[ result_dict[\"standardization\"] ](final_df, numerical_columns)\n",
    "final_df = locals()[ result_dict[\"outlier_detection\"] ](final_df, numerical_columns, nominal_columns)\n",
    "final_df = locals()[ result_dict[\"feature_selection\"] ](final_df)\n",
    "\n",
    "X = final_df.drop(\"Target (Col 107)\", axis = 1)\n",
    "y = final_df[\"Target (Col 107)\"]\n",
    "\n",
    "cv = StratifiedKFold(n_splits = 10, random_state = 42, shuffle = True)\n",
    "cv.get_n_splits(X, y)\n",
    "model = KNeighborsClassifier(n_neighbors = 3, metric = \"manhattan\")\n",
    "model.fit(X, y)\n",
    "\n",
    "accuracy_sc = str(round(cross_val_score(model, X, y, cv = cv, scoring = \"accuracy\").mean(), 3))\n",
    "f1_sc = str(round(cross_val_score(model, X, y, cv = cv, scoring = \"f1\").mean(), 3))\n",
    "print(\"Accuracy calculated on Test Data\", accuracy_sc, \"\\nF1 calculated on Test Data\", f1_sc)"
   ]
  },
  {
   "cell_type": "code",
   "execution_count": 19,
   "id": "c56c8b15",
   "metadata": {},
   "outputs": [],
   "source": [
    "#Outputing Final Predictions on test data\n",
    "test_file = pd.read_csv(\"./Ecoli_test.csv\")\n",
    "\n",
    "output_df = pd.DataFrame(columns = [\"0\", \"1\"])\n",
    "output_df[\"0\"] = model.predict(test_file)\n",
    "output_df[\"0\"] = output_df[\"0\"].astype(str)\n",
    "output_df.fillna('', inplace = True)\n",
    "\n",
    "output_df = output_df.append(pd.DataFrame([[accuracy_sc, f1_sc]], columns = output_df.columns))\n",
    "output_df.to_csv(\"./s4761003.csv\", header = False, index = False)"
   ]
  },
  {
   "cell_type": "code",
   "execution_count": null,
   "id": "f8309204",
   "metadata": {},
   "outputs": [],
   "source": []
  }
 ],
 "metadata": {
  "kernelspec": {
   "display_name": "Python 3 (ipykernel)",
   "language": "python",
   "name": "python3"
  },
  "language_info": {
   "codemirror_mode": {
    "name": "ipython",
    "version": 3
   },
   "file_extension": ".py",
   "mimetype": "text/x-python",
   "name": "python",
   "nbconvert_exporter": "python",
   "pygments_lexer": "ipython3",
   "version": "3.9.12"
  }
 },
 "nbformat": 4,
 "nbformat_minor": 5
}
