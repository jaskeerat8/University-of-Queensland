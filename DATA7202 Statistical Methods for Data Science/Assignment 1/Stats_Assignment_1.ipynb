{
 "cells": [
  {
   "cell_type": "markdown",
   "id": "b0278387-329a-40f7-aac7-c81c81442868",
   "metadata": {},
   "source": [
    "## Importing Libraries"
   ]
  },
  {
   "cell_type": "code",
   "execution_count": 1,
   "id": "0edd1942-f813-4a93-a0c6-0fbfb56af394",
   "metadata": {},
   "outputs": [],
   "source": [
    "import random\n",
    "import pandas as pd\n",
    "import numpy as np\n",
    "from scipy.integrate import quad\n",
    "from sklearn.linear_model import LinearRegression\n",
    "from sklearn.ensemble import RandomForestRegressor\n",
    "from sklearn.metrics import mean_squared_error\n",
    "from sklearn.metrics import mean_absolute_error\n",
    "from sklearn.model_selection import cross_val_score, KFold"
   ]
  },
  {
   "cell_type": "markdown",
   "id": "1b4664ed-7021-4108-bc0a-6b58dfa5abfe",
   "metadata": {},
   "source": [
    "### Question 1"
   ]
  },
  {
   "cell_type": "code",
   "execution_count": 2,
   "id": "1b67572b-71bc-4a99-bac4-0d3521ac3a2e",
   "metadata": {},
   "outputs": [],
   "source": [
    "np.random.seed(1)\n",
    "x1_train = np.random.gamma(shape=1, scale=1, size=1000)\n",
    "x2_train = np.random.gamma(shape=1, scale=1, size=1000)\n",
    "x3_train = np.random.gamma(shape=1, scale=1, size=1000)\n",
    "w_train = np.random.normal(loc=0, scale=2, size=1000)\n",
    "y_train = (0.5*x1_train) + (3*x2_train) + (5*x3_train) + (5*x2_train*x3_train) + (2*x1_train*x2_train*x3_train) + w_train\n",
    "\n",
    "np.random.seed(2)\n",
    "x1_test = np.random.gamma(shape=1, scale=1, size=1000)\n",
    "x2_test = np.random.gamma(shape=1, scale=1, size=1000)\n",
    "x3_test = np.random.gamma(shape=1, scale=1, size=1000)\n",
    "w_test = np.random.normal(loc=0, scale=2, size=1000)\n",
    "y_test = (0.5*x1_test) + (3*x2_test) + (5*x3_test) + (5*x2_test*x3_test) + (2*x1_test*x2_test*x3_test) + w_test"
   ]
  },
  {
   "cell_type": "code",
   "execution_count": 3,
   "id": "a68da497-9596-4dbb-a141-b3b464c418d7",
   "metadata": {},
   "outputs": [],
   "source": [
    "train_df = pd.DataFrame({\"x1\": x1_train, \"x2\": x2_train, \"x3\": x3_train, \"y\": y_train})\n",
    "x_train = train_df[[\"x1\", \"x2\", \"x3\"]]\n",
    "y_train = train_df[\"y\"]\n",
    "\n",
    "test_df = pd.DataFrame({\"x1\": x1_test, \"x2\": x2_test, \"x3\": x3_test, \"y\": y_test})\n",
    "x_test = test_df[[\"x1\", \"x2\", \"x3\"]]\n",
    "y_test = test_df[\"y\"]"
   ]
  },
  {
   "cell_type": "code",
   "execution_count": 4,
   "id": "89168e22-5e08-4435-a139-9d0745566ce6",
   "metadata": {},
   "outputs": [
    {
     "name": "stdout",
     "output_type": "stream",
     "text": [
      "Linear Regression MSE: 74.56753771040981\n",
      "Linear Regression Coefficients: [ 2.19957962  8.38793456 12.19228899]\n"
     ]
    }
   ],
   "source": [
    "lr_model = LinearRegression()\n",
    "lr_model.fit(x_train, y_train)\n",
    "y_lr_pred = lr_model.predict(x_test)\n",
    "lr_mse = mean_squared_error(y_test, y_lr_pred)\n",
    "print(\"Linear Regression MSE:\", lr_mse)\n",
    "print(\"Linear Regression Coefficients:\", lr_model.coef_)"
   ]
  },
  {
   "cell_type": "code",
   "execution_count": 5,
   "id": "39491cbe-3b35-41a3-8198-fd3fae1ea939",
   "metadata": {},
   "outputs": [
    {
     "name": "stdout",
     "output_type": "stream",
     "text": [
      "Random Forest Regression MSE: 27.467311656382822\n"
     ]
    }
   ],
   "source": [
    "rf_model = RandomForestRegressor(n_estimators = 500)\n",
    "rf_model.fit(x_train, y_train)\n",
    "y_rf_pred = rf_model.predict(x_test)\n",
    "rf_mse = mean_squared_error(y_test, y_rf_pred)\n",
    "print(\"Random Forest Regression MSE:\", rf_mse)"
   ]
  },
  {
   "cell_type": "markdown",
   "id": "4b9ae794-db26-41cf-8572-3e039922a437",
   "metadata": {},
   "source": [
    "### Question 2"
   ]
  },
  {
   "cell_type": "code",
   "execution_count": 16,
   "id": "18a26a11-d32c-48b9-ae1a-4f0f6c7df766",
   "metadata": {},
   "outputs": [
    {
     "name": "stdout",
     "output_type": "stream",
     "text": [
      "True Value: 189.9617286539798 ± 2.1089988494924473e-12\n"
     ]
    }
   ],
   "source": [
    "def function(x):\n",
    "    return 3 + (x**2) - (2*np.sin(x))\n",
    "\n",
    "a, b = 1, 8\n",
    "true_value, error = quad(function, a, b)\n",
    "print(\"True Value:\", true_value, u\"\\u00B1\", error)"
   ]
  },
  {
   "cell_type": "code",
   "execution_count": 17,
   "id": "ff378174-8268-4dd1-bec2-58dbcea79f47",
   "metadata": {},
   "outputs": [
    {
     "name": "stdout",
     "output_type": "stream",
     "text": [
      "Estimated Value:  190.2012239908702\n"
     ]
    }
   ],
   "source": [
    "np.random.seed(47)\n",
    "samples = np.random.uniform(low=a, high=b, size=10000)\n",
    "function_samples = [function(sample) for sample in samples]\n",
    "\n",
    "estimated_value = np.mean(function_samples) * (b-a)\n",
    "print(\"Estimated Value: \", estimated_value)"
   ]
  },
  {
   "cell_type": "code",
   "execution_count": 18,
   "id": "be7c4d6d-c28e-4b76-8cfb-7a6cc4a90f89",
   "metadata": {},
   "outputs": [
    {
     "name": "stdout",
     "output_type": "stream",
     "text": [
      "Confidence Interval:  [186.56109146528505, 193.84135651645536]\n"
     ]
    }
   ],
   "source": [
    "sd = 0\n",
    "sd = sum([(result - estimated_value)**2 for result in samples])\n",
    "sd = (sd/(10000 - 1))**0.5\n",
    "\n",
    "lower = estimated_value - 1.96*sd/(10000**0.5)\n",
    "upper = estimated_value + 1.96*sd/(10000**0.5)\n",
    "confidence_interval = [lower, upper]\n",
    "print(\"Confidence Interval: \", confidence_interval)"
   ]
  },
  {
   "cell_type": "markdown",
   "id": "29d7d9e9-f66d-4c6a-a82a-bd305f77fa88",
   "metadata": {},
   "source": [
    "### Question 6"
   ]
  },
  {
   "cell_type": "code",
   "execution_count": 9,
   "id": "81ccab9c-1c6d-42a5-99fe-b4a34a8ce820",
   "metadata": {},
   "outputs": [],
   "source": [
    "df = pd.DataFrame({\"x1\": [0, 1, 2, 3, 4], \"y\": [1, 2, 3, 2, 1]})"
   ]
  },
  {
   "cell_type": "code",
   "execution_count": 10,
   "id": "47fd2476-720a-4ab8-91b8-5c6210c5d626",
   "metadata": {},
   "outputs": [
    {
     "name": "stdout",
     "output_type": "stream",
     "text": [
      "model 1 intercept: 1.8\n",
      "model 2 coefficients:  [0.6]\n"
     ]
    }
   ],
   "source": [
    "lr_model_1 = LinearRegression()\n",
    "lr_model_1.fit(df[[\"x1\"]], df[\"y\"])\n",
    "y_pred_1 = lr_model_1.predict(df[[\"x1\"]])\n",
    "print(\"model 1 intercept:\", lr_model_1.intercept_)\n",
    "\n",
    "lr_model_2 = LinearRegression(fit_intercept=False)\n",
    "lr_model_2.fit(df[[\"x1\"]], df[\"y\"])\n",
    "y_pred_2 = lr_model_2.predict(df[[\"x1\"]])\n",
    "print(\"model 2 coefficients: \", lr_model_2.coef_)"
   ]
  },
  {
   "cell_type": "code",
   "execution_count": 11,
   "id": "efe61c5f-0dd2-4dc9-b4fc-736df4a4bd3a",
   "metadata": {},
   "outputs": [
    {
     "name": "stdout",
     "output_type": "stream",
     "text": [
      "Average Squared Error for model_1: 0.5600000000000002 model_2: 1.64\n",
      "Average Absolute Error for model_1: 0.6400000000000001 model_2: 1.1600000000000001\n",
      "L1.5 loss for model_1: 0.5849006163624495 model_2: 1.36348016266711\n"
     ]
    }
   ],
   "source": [
    "squared_error_1 = ((y_pred_1 - df[\"y\"])**2).mean()\n",
    "squared_error_2 = ((y_pred_2 - df[\"y\"])**2).mean()\n",
    "print(\"Average Squared Error for model_1:\", squared_error_1, \"model_2:\", squared_error_2)\n",
    "\n",
    "absolute_error_1 = (np.abs(y_pred_1 - df[\"y\"])).mean()\n",
    "absolute_error_2 = (np.abs(y_pred_2 - df[\"y\"])).mean()\n",
    "print(\"Average Absolute Error for model_1:\", absolute_error_1, \"model_2:\", absolute_error_2)\n",
    "\n",
    "l_15_model_1 = (np.abs(y_pred_1 - df[\"y\"])**1.5).mean()\n",
    "l_15_model_2 = (np.abs(y_pred_2 - df[\"y\"])**1.5).mean()\n",
    "print(\"L1.5 loss for model_1:\", l_15_model_1, \"model_2:\", l_15_model_2)"
   ]
  },
  {
   "cell_type": "markdown",
   "id": "63f11cbd-3b60-4c2b-86f7-a525d6ea4a16",
   "metadata": {},
   "source": [
    "### Question 7"
   ]
  },
  {
   "cell_type": "code",
   "execution_count": 12,
   "id": "60a7ba94-2668-43f9-baf8-99bd9cb13f9e",
   "metadata": {},
   "outputs": [
    {
     "data": {
      "text/plain": [
       "array([1, 2, 3])"
      ]
     },
     "execution_count": 12,
     "metadata": {},
     "output_type": "execute_result"
    }
   ],
   "source": [
    "#Reading Data\n",
    "df = pd.read_csv(r\"data.csv\")\n",
    "df[\"x2\"] = df[\"x2\"].astype(int)\n",
    "df[\"x2\"].unique()"
   ]
  },
  {
   "cell_type": "code",
   "execution_count": 13,
   "id": "b19a38d8-6b82-4b41-a63f-5ebda01f3445",
   "metadata": {},
   "outputs": [
    {
     "name": "stdout",
     "output_type": "stream",
     "text": [
      "Ordered mean squared error: 1.2685717076212815\n"
     ]
    }
   ],
   "source": [
    "#Ordinal Data\n",
    "ordinal_df = df.copy()\n",
    "ordinal_model = LinearRegression()\n",
    "kf = KFold(n_splits=10, shuffle=True, random_state=42)\n",
    "mse_list = -cross_val_score(ordinal_model, ordinal_df.drop(columns=[\"y\"]), ordinal_df[\"y\"], cv=kf, scoring=\"neg_mean_squared_error\")\n",
    "mse = (mse_list).mean()\n",
    "print(\"Ordered mean squared error:\", mse)"
   ]
  },
  {
   "cell_type": "code",
   "execution_count": 14,
   "id": "03a48e03-134a-4b4a-9df8-aad6801fc632",
   "metadata": {},
   "outputs": [
    {
     "name": "stdout",
     "output_type": "stream",
     "text": [
      "UnOrdered mean squared error: 3.757360926169872e-30\n"
     ]
    }
   ],
   "source": [
    "#Non Ordinal Data\n",
    "non_ordinal_df = pd.get_dummies(df, columns=[\"x2\"])\n",
    "non_ordinal_model = LinearRegression()\n",
    "kf = KFold(n_splits=10, shuffle=True, random_state=42)\n",
    "mse_list = -cross_val_score(non_ordinal_model, non_ordinal_df.drop(columns=[\"y\"]), non_ordinal_df[\"y\"], cv=kf, scoring=\"neg_mean_squared_error\")\n",
    "mse = np.mean(mse_list)\n",
    "print(\"UnOrdered mean squared error:\", mse)"
   ]
  },
  {
   "cell_type": "markdown",
   "id": "cb4388a4-4fc0-432d-8c11-2293741b62cd",
   "metadata": {},
   "source": [
    "## References"
   ]
  },
  {
   "cell_type": "markdown",
   "id": "e69f287f-9973-44ef-aafa-b5ddbe8ad6fa",
   "metadata": {},
   "source": [
    "Monte Carlo integration in Python. (2022, March 10). GeeksforGeeks. https://www.geeksforgeeks.org/monte-carlo-integration-in-python/\n",
    "An Easy Guide to K-Fold Cross-Validation. (2020. November 4). Statology. https://www.statology.org/k-fold-cross-validation/"
   ]
  }
 ],
 "metadata": {
  "kernelspec": {
   "display_name": "Python 3 (ipykernel)",
   "language": "python",
   "name": "python3"
  },
  "language_info": {
   "codemirror_mode": {
    "name": "ipython",
    "version": 3
   },
   "file_extension": ".py",
   "mimetype": "text/x-python",
   "name": "python",
   "nbconvert_exporter": "python",
   "pygments_lexer": "ipython3",
   "version": "3.8.18"
  }
 },
 "nbformat": 4,
 "nbformat_minor": 5
}
