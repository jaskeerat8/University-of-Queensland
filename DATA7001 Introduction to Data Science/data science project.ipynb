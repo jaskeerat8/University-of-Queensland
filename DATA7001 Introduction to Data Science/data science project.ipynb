{
 "cells": [
  {
   "cell_type": "markdown",
   "id": "b0ee3819",
   "metadata": {},
   "source": [
    "# Importing libraries and Reading Datasets"
   ]
  },
  {
   "cell_type": "code",
   "execution_count": 1,
   "id": "7db84f5e",
   "metadata": {},
   "outputs": [],
   "source": [
    "import pandas as pd\n",
    "import numpy as np\n",
    "import re\n",
    "import warnings, random\n",
    "from sklearn.linear_model import LinearRegression\n",
    "from sklearn.model_selection import train_test_split\n",
    "from sklearn.metrics import r2_score, mean_squared_error, mean_absolute_error\n",
    "import matplotlib.pyplot as plt\n",
    "import seaborn as sns\n",
    "import statsmodels.api as sm\n",
    "warnings.filterwarnings(\"ignore\")\n",
    "pd.set_option('display.max_columns', None)\n",
    "\n",
    "place_data = pd.read_csv(r\"C:\\Users\\jaske\\OneDrive\\Desktop\\studies\\intro to data science\\CPI.csv\", skiprows = 1)\n",
    "jobs_data = pd.read_csv(r\"C:\\Users\\jaske\\OneDrive\\Desktop\\studies\\intro to data science\\DS_JOBS_2019_2022.csv\")\n",
    "final_cleaned_data = r\"C:\\Users\\jaske\\Downloads\\cleaned_withImputation_removedOutliers.csv\""
   ]
  },
  {
   "cell_type": "markdown",
   "id": "8a05788c",
   "metadata": {},
   "source": [
    "# Getting only Australian cities"
   ]
  },
  {
   "cell_type": "code",
   "execution_count": 2,
   "id": "7907eb0c",
   "metadata": {},
   "outputs": [
    {
     "data": {
      "text/plain": [
       "['sydney',\n",
       " 'melbourne',\n",
       " 'brisbane',\n",
       " 'adelaide',\n",
       " 'perth',\n",
       " 'hobart',\n",
       " 'darwin',\n",
       " 'canberra']"
      ]
     },
     "execution_count": 2,
     "metadata": {},
     "output_type": "execute_result"
    }
   ],
   "source": [
    "cities = list(map(str.lower, place_data.columns[1:-1]))\n",
    "cities"
   ]
  },
  {
   "cell_type": "markdown",
   "id": "f2313175",
   "metadata": {},
   "source": [
    "# Filtering Data"
   ]
  },
  {
   "cell_type": "code",
   "execution_count": 3,
   "id": "922ed42b",
   "metadata": {},
   "outputs": [
    {
     "data": {
      "text/plain": [
       "array(['sydney', 'canberra', 'melbourne', 'perth', 'brisbane', 'darwin',\n",
       "       'adelaide', 'hobart'], dtype=object)"
      ]
     },
     "execution_count": 3,
     "metadata": {},
     "output_type": "execute_result"
    }
   ],
   "source": [
    "#Getting Jobs data for Australia and its cities\n",
    "jobs_data = jobs_data[jobs_data[\"nation\"] == \"Australia\"]\n",
    "jobs_data[\"city\"] = jobs_data[\"city\"].str.lower()\n",
    "jobs_data[\"city\"].replace(to_replace = \"act\", value = \"canberra\", inplace=True )\n",
    "jobs_data = jobs_data[jobs_data[\"city\"].isin(cities)]\n",
    "\n",
    "jobs_data.reset_index(drop=True, inplace=True)\n",
    "jobs_data[\"city\"].unique()"
   ]
  },
  {
   "cell_type": "code",
   "execution_count": 4,
   "id": "0238a761",
   "metadata": {},
   "outputs": [
    {
     "name": "stdout",
     "output_type": "stream",
     "text": [
      "Number of unique values in each column\n"
     ]
    },
    {
     "data": {
      "text/html": [
       "<div>\n",
       "<style scoped>\n",
       "    .dataframe tbody tr th:only-of-type {\n",
       "        vertical-align: middle;\n",
       "    }\n",
       "\n",
       "    .dataframe tbody tr th {\n",
       "        vertical-align: top;\n",
       "    }\n",
       "\n",
       "    .dataframe thead th {\n",
       "        text-align: right;\n",
       "    }\n",
       "</style>\n",
       "<table border=\"1\" class=\"dataframe\">\n",
       "  <thead>\n",
       "    <tr style=\"text-align: right;\">\n",
       "      <th></th>\n",
       "      <th>jobId</th>\n",
       "      <th>jobTitle</th>\n",
       "      <th>jobClassification</th>\n",
       "      <th>jobSubClassification</th>\n",
       "      <th>advertiserName</th>\n",
       "      <th>advertiserId</th>\n",
       "      <th>companyId</th>\n",
       "      <th>companyName</th>\n",
       "      <th>companyRating</th>\n",
       "      <th>listingDate</th>\n",
       "      <th>expiryDate</th>\n",
       "      <th>teaser</th>\n",
       "      <th>nation</th>\n",
       "      <th>state</th>\n",
       "      <th>city</th>\n",
       "      <th>area</th>\n",
       "      <th>suburb</th>\n",
       "      <th>workType</th>\n",
       "      <th>salary_string</th>\n",
       "      <th>isRightToWorkRequired</th>\n",
       "      <th>desktopAdTemplate</th>\n",
       "      <th>mobileAdTemplate</th>\n",
       "      <th>companyProfileUrl</th>\n",
       "      <th>seekJobListingUrl</th>\n",
       "      <th>R</th>\n",
       "      <th>Python</th>\n",
       "      <th>Matlab</th>\n",
       "      <th>SQL</th>\n",
       "      <th>Stata</th>\n",
       "      <th>Minitab</th>\n",
       "      <th>SPSS</th>\n",
       "      <th>Ruby</th>\n",
       "      <th>C</th>\n",
       "      <th>Scala</th>\n",
       "      <th>Tableau</th>\n",
       "      <th>Java</th>\n",
       "      <th>Hadoop</th>\n",
       "      <th>SAS</th>\n",
       "      <th>Julia</th>\n",
       "      <th>Knime</th>\n",
       "      <th>D3</th>\n",
       "      <th>Clojure</th>\n",
       "      <th>Haskell</th>\n",
       "      <th>Lisp</th>\n",
       "      <th>Golang</th>\n",
       "      <th>Spark</th>\n",
       "      <th>Javascript</th>\n",
       "      <th>F.</th>\n",
       "      <th>Fortran</th>\n",
       "      <th>first_seen</th>\n",
       "      <th>last_seen</th>\n",
       "      <th>recruiter</th>\n",
       "    </tr>\n",
       "  </thead>\n",
       "  <tbody>\n",
       "    <tr>\n",
       "      <th>0</th>\n",
       "      <td>3807</td>\n",
       "      <td>1149</td>\n",
       "      <td>25</td>\n",
       "      <td>82</td>\n",
       "      <td>902</td>\n",
       "      <td>937</td>\n",
       "      <td>281</td>\n",
       "      <td>331</td>\n",
       "      <td>278</td>\n",
       "      <td>3588</td>\n",
       "      <td>1249</td>\n",
       "      <td>2275</td>\n",
       "      <td>1</td>\n",
       "      <td>9</td>\n",
       "      <td>8</td>\n",
       "      <td>17</td>\n",
       "      <td>197</td>\n",
       "      <td>6</td>\n",
       "      <td>875</td>\n",
       "      <td>3</td>\n",
       "      <td>2456</td>\n",
       "      <td>2944</td>\n",
       "      <td>1119</td>\n",
       "      <td>3807</td>\n",
       "      <td>2</td>\n",
       "      <td>2</td>\n",
       "      <td>2</td>\n",
       "      <td>2</td>\n",
       "      <td>2</td>\n",
       "      <td>2</td>\n",
       "      <td>2</td>\n",
       "      <td>2</td>\n",
       "      <td>2</td>\n",
       "      <td>2</td>\n",
       "      <td>2</td>\n",
       "      <td>2</td>\n",
       "      <td>2</td>\n",
       "      <td>2</td>\n",
       "      <td>2</td>\n",
       "      <td>2</td>\n",
       "      <td>2</td>\n",
       "      <td>2</td>\n",
       "      <td>2</td>\n",
       "      <td>1</td>\n",
       "      <td>2</td>\n",
       "      <td>2</td>\n",
       "      <td>2</td>\n",
       "      <td>2</td>\n",
       "      <td>2</td>\n",
       "      <td>772</td>\n",
       "      <td>858</td>\n",
       "      <td>2</td>\n",
       "    </tr>\n",
       "  </tbody>\n",
       "</table>\n",
       "</div>"
      ],
      "text/plain": [
       "  jobId jobTitle jobClassification jobSubClassification advertiserName  \\\n",
       "0  3807     1149                25                   82            902   \n",
       "\n",
       "  advertiserId companyId companyName companyRating listingDate expiryDate  \\\n",
       "0          937       281         331           278        3588       1249   \n",
       "\n",
       "  teaser nation state city area suburb workType salary_string  \\\n",
       "0   2275      1     9    8   17    197        6           875   \n",
       "\n",
       "  isRightToWorkRequired desktopAdTemplate mobileAdTemplate companyProfileUrl  \\\n",
       "0                     3              2456             2944              1119   \n",
       "\n",
       "  seekJobListingUrl  R Python Matlab SQL Stata Minitab SPSS Ruby  C Scala  \\\n",
       "0              3807  2      2      2   2     2       2    2    2  2     2   \n",
       "\n",
       "  Tableau Java Hadoop SAS Julia Knime D3 Clojure Haskell Lisp Golang Spark  \\\n",
       "0       2    2      2   2     2     2  2       2       2    1      2     2   \n",
       "\n",
       "  Javascript F. Fortran first_seen last_seen recruiter  \n",
       "0          2  2       2        772       858         2  "
      ]
     },
     "execution_count": 4,
     "metadata": {},
     "output_type": "execute_result"
    }
   ],
   "source": [
    "#Unique values in each column\n",
    "unique_df = pd.DataFrame()\n",
    "\n",
    "for i in jobs_data.columns:\n",
    "    unique_df.at[0, i] = str(len(jobs_data[i].unique()))\n",
    "\n",
    "print(\"Number of unique values in each column\")\n",
    "unique_df"
   ]
  },
  {
   "cell_type": "code",
   "execution_count": 5,
   "id": "289223f0",
   "metadata": {},
   "outputs": [
    {
     "name": "stdout",
     "output_type": "stream",
     "text": [
      "Number of null values in each column\n"
     ]
    },
    {
     "data": {
      "text/html": [
       "<div>\n",
       "<style scoped>\n",
       "    .dataframe tbody tr th:only-of-type {\n",
       "        vertical-align: middle;\n",
       "    }\n",
       "\n",
       "    .dataframe tbody tr th {\n",
       "        vertical-align: top;\n",
       "    }\n",
       "\n",
       "    .dataframe thead th {\n",
       "        text-align: right;\n",
       "    }\n",
       "</style>\n",
       "<table border=\"1\" class=\"dataframe\">\n",
       "  <thead>\n",
       "    <tr style=\"text-align: right;\">\n",
       "      <th></th>\n",
       "      <th>jobId</th>\n",
       "      <th>jobTitle</th>\n",
       "      <th>jobClassification</th>\n",
       "      <th>jobSubClassification</th>\n",
       "      <th>advertiserName</th>\n",
       "      <th>advertiserId</th>\n",
       "      <th>companyId</th>\n",
       "      <th>companyName</th>\n",
       "      <th>companyRating</th>\n",
       "      <th>listingDate</th>\n",
       "      <th>expiryDate</th>\n",
       "      <th>teaser</th>\n",
       "      <th>nation</th>\n",
       "      <th>state</th>\n",
       "      <th>city</th>\n",
       "      <th>area</th>\n",
       "      <th>suburb</th>\n",
       "      <th>workType</th>\n",
       "      <th>salary_string</th>\n",
       "      <th>isRightToWorkRequired</th>\n",
       "      <th>desktopAdTemplate</th>\n",
       "      <th>mobileAdTemplate</th>\n",
       "      <th>companyProfileUrl</th>\n",
       "      <th>seekJobListingUrl</th>\n",
       "      <th>R</th>\n",
       "      <th>Python</th>\n",
       "      <th>Matlab</th>\n",
       "      <th>SQL</th>\n",
       "      <th>Stata</th>\n",
       "      <th>Minitab</th>\n",
       "      <th>SPSS</th>\n",
       "      <th>Ruby</th>\n",
       "      <th>C</th>\n",
       "      <th>Scala</th>\n",
       "      <th>Tableau</th>\n",
       "      <th>Java</th>\n",
       "      <th>Hadoop</th>\n",
       "      <th>SAS</th>\n",
       "      <th>Julia</th>\n",
       "      <th>Knime</th>\n",
       "      <th>D3</th>\n",
       "      <th>Clojure</th>\n",
       "      <th>Haskell</th>\n",
       "      <th>Lisp</th>\n",
       "      <th>Golang</th>\n",
       "      <th>Spark</th>\n",
       "      <th>Javascript</th>\n",
       "      <th>F.</th>\n",
       "      <th>Fortran</th>\n",
       "      <th>first_seen</th>\n",
       "      <th>last_seen</th>\n",
       "      <th>recruiter</th>\n",
       "    </tr>\n",
       "  </thead>\n",
       "  <tbody>\n",
       "    <tr>\n",
       "      <th>0</th>\n",
       "      <td>0</td>\n",
       "      <td>0</td>\n",
       "      <td>0</td>\n",
       "      <td>0</td>\n",
       "      <td>0</td>\n",
       "      <td>0</td>\n",
       "      <td>2789</td>\n",
       "      <td>2396</td>\n",
       "      <td>2789</td>\n",
       "      <td>0</td>\n",
       "      <td>0</td>\n",
       "      <td>510</td>\n",
       "      <td>0</td>\n",
       "      <td>0</td>\n",
       "      <td>0</td>\n",
       "      <td>1137</td>\n",
       "      <td>893</td>\n",
       "      <td>0</td>\n",
       "      <td>2324</td>\n",
       "      <td>469</td>\n",
       "      <td>679</td>\n",
       "      <td>7</td>\n",
       "      <td>2396</td>\n",
       "      <td>0</td>\n",
       "      <td>0</td>\n",
       "      <td>0</td>\n",
       "      <td>0</td>\n",
       "      <td>0</td>\n",
       "      <td>0</td>\n",
       "      <td>0</td>\n",
       "      <td>0</td>\n",
       "      <td>0</td>\n",
       "      <td>0</td>\n",
       "      <td>0</td>\n",
       "      <td>0</td>\n",
       "      <td>0</td>\n",
       "      <td>0</td>\n",
       "      <td>0</td>\n",
       "      <td>0</td>\n",
       "      <td>0</td>\n",
       "      <td>0</td>\n",
       "      <td>0</td>\n",
       "      <td>0</td>\n",
       "      <td>0</td>\n",
       "      <td>0</td>\n",
       "      <td>0</td>\n",
       "      <td>0</td>\n",
       "      <td>0</td>\n",
       "      <td>0</td>\n",
       "      <td>0</td>\n",
       "      <td>0</td>\n",
       "      <td>0</td>\n",
       "    </tr>\n",
       "  </tbody>\n",
       "</table>\n",
       "</div>"
      ],
      "text/plain": [
       "  jobId jobTitle jobClassification jobSubClassification advertiserName  \\\n",
       "0     0        0                 0                    0              0   \n",
       "\n",
       "  advertiserId companyId companyName companyRating listingDate expiryDate  \\\n",
       "0            0      2789        2396          2789           0          0   \n",
       "\n",
       "  teaser nation state city  area suburb workType salary_string  \\\n",
       "0    510      0     0    0  1137    893        0          2324   \n",
       "\n",
       "  isRightToWorkRequired desktopAdTemplate mobileAdTemplate companyProfileUrl  \\\n",
       "0                   469               679                7              2396   \n",
       "\n",
       "  seekJobListingUrl  R Python Matlab SQL Stata Minitab SPSS Ruby  C Scala  \\\n",
       "0                 0  0      0      0   0     0       0    0    0  0     0   \n",
       "\n",
       "  Tableau Java Hadoop SAS Julia Knime D3 Clojure Haskell Lisp Golang Spark  \\\n",
       "0       0    0      0   0     0     0  0       0       0    0      0     0   \n",
       "\n",
       "  Javascript F. Fortran first_seen last_seen recruiter  \n",
       "0          0  0       0          0         0         0  "
      ]
     },
     "execution_count": 5,
     "metadata": {},
     "output_type": "execute_result"
    }
   ],
   "source": [
    "#Count of nulls in each column\n",
    "jobs_data.isna().sum()\n",
    "\n",
    "null_df = pd.DataFrame()\n",
    "\n",
    "for i in jobs_data.columns:\n",
    "    null_df.at[0, i] = str(jobs_data[i].isna().sum())\n",
    "\n",
    "print(\"Number of null values in each column\")\n",
    "null_df"
   ]
  },
  {
   "cell_type": "markdown",
   "id": "5f414fc9",
   "metadata": {},
   "source": [
    "# Removing Unwanted columns"
   ]
  },
  {
   "cell_type": "code",
   "execution_count": 6,
   "id": "d76b162c",
   "metadata": {},
   "outputs": [
    {
     "data": {
      "text/plain": [
       "Index(['jobId', 'jobTitle', 'jobClassification', 'jobSubClassification',\n",
       "       'advertiserName', 'advertiserId', 'companyId', 'companyName',\n",
       "       'companyRating', 'listingDate', 'expiryDate', 'teaser', 'nation',\n",
       "       'state', 'city', 'area', 'suburb', 'workType', 'salary_string',\n",
       "       'isRightToWorkRequired', 'desktopAdTemplate', 'mobileAdTemplate',\n",
       "       'companyProfileUrl', 'seekJobListingUrl', 'R', 'Python', 'Matlab',\n",
       "       'SQL', 'Stata', 'Minitab', 'SPSS', 'Ruby', 'C', 'Scala', 'Tableau',\n",
       "       'Java', 'Hadoop', 'SAS', 'Julia', 'Knime', 'D3', 'Clojure', 'Haskell',\n",
       "       'Lisp', 'Golang', 'Spark', 'Javascript', 'F.', 'Fortran', 'first_seen',\n",
       "       'last_seen', 'recruiter'],\n",
       "      dtype='object')"
      ]
     },
     "execution_count": 6,
     "metadata": {},
     "output_type": "execute_result"
    }
   ],
   "source": [
    "jobs_data.columns"
   ]
  },
  {
   "cell_type": "code",
   "execution_count": 7,
   "id": "845137de",
   "metadata": {},
   "outputs": [],
   "source": [
    "unwanted_columns = [\"jobId\", \"advertiserId\", \"companyId\", \"teaser\", \"desktopAdTemplate\", \"companyProfileUrl\", \"seekJobListingUrl\"]\n",
    "jobs_data = jobs_data.drop(unwanted_columns, axis=1)"
   ]
  },
  {
   "cell_type": "markdown",
   "id": "a94e9d21",
   "metadata": {},
   "source": [
    "# Cleaning Data"
   ]
  },
  {
   "cell_type": "code",
   "execution_count": 8,
   "id": "c37b2cfa",
   "metadata": {},
   "outputs": [],
   "source": [
    "#Classifying on jobs to make jobtype\n",
    "jobs_data[\"jobType\"] = None\n",
    "\n",
    "for i in range(len(jobs_data)):\n",
    "    if(\"scientist\" in jobs_data[\"jobTitle\"][i].lower()):\n",
    "        jobs_data[\"jobType\"][i] = \"Data Scientist\"\n",
    "    elif(\"analyst\" in jobs_data[\"jobTitle\"][i].lower()):\n",
    "        jobs_data[\"jobType\"][i] = \"Data Analyst\"\n",
    "    elif(\"engineer\" in jobs_data[\"jobTitle\"][i].lower()):\n",
    "        jobs_data[\"jobType\"][i] = \"Data Engineer\"\n",
    "    elif(\"manager\" in jobs_data[\"jobTitle\"][i].lower()):\n",
    "        jobs_data[\"jobType\"][i] = \"Analytics Manager\"\n",
    "    elif(\"develop\" in jobs_data[\"jobTitle\"][i].lower()):\n",
    "        jobs_data[\"jobType\"][i] = \"Data Architect\"\n",
    "    else:\n",
    "        jobs_data[\"jobType\"][i] = \"Other\""
   ]
  },
  {
   "cell_type": "code",
   "execution_count": 9,
   "id": "698b44ae",
   "metadata": {},
   "outputs": [],
   "source": [
    "#Calculating salary from salarystring\n",
    "jobs_data[\"salary\"] = None\n",
    "\n",
    "for i in range(len(jobs_data)):\n",
    "    value = str(jobs_data[\"salary_string\"][i])\n",
    "    \n",
    "    remove_list = [',', 'per day', 'per annum', 'p.a.', 'p.d.', 'p/d', 'p/a', '.00']\n",
    "    for x in remove_list:\n",
    "        value = value.replace(x, \"\")\n",
    "    \n",
    "    value = re.sub('\\d+[\\.]*\\d*[%]+', '', value)\n",
    "    value = re.sub('[\\.]*\\d*[%]+', '', value)\n",
    "    value = re.sub('[\\.]+\\d*', '', value)\n",
    "    value = re.findall(r'[-]*\\s*\\d+\\s*\\w{1}', value)\n",
    "    \n",
    "    try:\n",
    "        jobs_data[\"salary\"][i] = re.sub('\\D', '', value[-1].replace(\"k\", \"000\").replace(\"K\", \"000\"))\n",
    "    except:\n",
    "        jobs_data[\"salary\"][i] = None\n",
    "\n",
    "jobs_data[\"salary\"] = pd.to_numeric(jobs_data[\"salary\"])\n",
    "jobs_data[\"salary\"] = jobs_data[\"salary\"].abs()"
   ]
  },
  {
   "cell_type": "code",
   "execution_count": 10,
   "id": "0c8eb350",
   "metadata": {},
   "outputs": [],
   "source": [
    "#Calculating total skills for each job\n",
    "skill_list = ['R', 'Python', 'Matlab', 'SQL', 'Stata', 'Minitab', 'SPSS', 'Ruby', 'C', 'Scala', 'Tableau', 'Java', 'Hadoop', 'SAS', 'Julia', 'Knime', 'D3', 'Clojure', 'Haskell', 'Lisp', 'Golang', 'Spark', 'Javascript', 'F.', 'Fortran']\n",
    "jobs_data[\"total_skills\"] = jobs_data[skill_list].sum(axis = 1)"
   ]
  },
  {
   "cell_type": "code",
   "execution_count": 11,
   "id": "1cf66756",
   "metadata": {},
   "outputs": [],
   "source": [
    "#Parsing experience from online ads\n",
    "jobs_data[\"experience\"] = None\n",
    "\n",
    "for i in range(len(jobs_data)):\n",
    "    exp = None\n",
    "    try:\n",
    "        exp = list(filter(lambda sentence: (\"year\" in sentence)or(\"yr\" in sentence) , jobs_data[\"mobileAdTemplate\"][i].split(\".\")))[-1]\n",
    "        exp = re.findall('\\d+\\s*[+]*\\s*[y]{1}', exp)[0]\n",
    "        exp = float(re.sub('\\D', '', exp))\n",
    "        jobs_data[\"experience\"][i] = random.choice(range(5, 16)) if(exp >= 15) else exp\n",
    "    except:\n",
    "        jobs_data[\"experience\"][i] = None\n",
    "jobs_data[\"experience\"] = jobs_data[\"experience\"].astype('float64')"
   ]
  },
  {
   "cell_type": "markdown",
   "id": "ce7bf500",
   "metadata": {},
   "source": [
    "# Imputation using Mean Value"
   ]
  },
  {
   "cell_type": "code",
   "execution_count": 12,
   "id": "6fc808b0",
   "metadata": {},
   "outputs": [
    {
     "name": "stdout",
     "output_type": "stream",
     "text": [
      "New South Wales : 4.72\n",
      "Australian Capital Territory : 3.26\n",
      "Victoria : 5.01\n",
      "Western Australia : 5.08\n",
      "Queensland : 4.7\n",
      "Northern Territories : 2.0\n",
      "South Australia : 4.78\n",
      "Tasmania : 3.0\n",
      "Northern Territory : 4.7\n"
     ]
    }
   ],
   "source": [
    "#Imputing mean values based on state level for experience column\n",
    "for i in jobs_data[\"state\"].unique():\n",
    "    impute_value = round(jobs_data[\"experience\"][jobs_data[\"state\"] == i].mean(), 2)\n",
    "    if(str(impute_value) == \"nan\"):\n",
    "        impute_value = round(jobs_data[\"experience\"].mean(), 2)\n",
    "    \n",
    "    print(i + \" : \" + str(impute_value))\n",
    "    jobs_data.loc[jobs_data[\"state\"] == i, \"experience\"] = jobs_data.loc[jobs_data[\"state\"] == i, \"experience\"].fillna(impute_value)"
   ]
  },
  {
   "cell_type": "markdown",
   "id": "66ab5139",
   "metadata": {},
   "source": [
    "# Imputation using Linear regression"
   ]
  },
  {
   "cell_type": "code",
   "execution_count": 13,
   "id": "d4c4be95",
   "metadata": {},
   "outputs": [],
   "source": [
    "lrm_data = jobs_data[[\"state\", \"salary\", \"total_skills\", \"experience\"]]\n",
    "\n",
    "for i in lrm_data[\"state\"].unique():\n",
    "    lrm_train = lrm_data.loc[lrm_data['salary'].notnull(), ][lrm_data['state'] == i]\n",
    "    \n",
    "    independant = lrm_train[[\"total_skills\", \"experience\"]]\n",
    "    dependant = lrm_train[\"salary\"]\n",
    "    \n",
    "    lrm = LinearRegression().fit(independant, dependant)\n",
    "    for j in jobs_data[jobs_data.isnull().any(axis=1)][jobs_data[\"state\"] == i].index:\n",
    "        jobs_data[\"salary\"][j] = round(lrm.predict([[jobs_data[\"total_skills\"][j], jobs_data[\"experience\"][j]]])[0], 2)"
   ]
  },
  {
   "cell_type": "markdown",
   "id": "df5bf0d6",
   "metadata": {},
   "source": [
    "# Outlier Removal"
   ]
  },
  {
   "cell_type": "code",
   "execution_count": 14,
   "id": "5b5a6d92",
   "metadata": {},
   "outputs": [
    {
     "data": {
      "image/png": "[encoded data removed]",
      "text/plain": [
       "<Figure size 360x360 with 1 Axes>"
      ]
     },
     "metadata": {
      "needs_background": "light"
     },
     "output_type": "display_data"
    }
   ],
   "source": [
    "jobs_data.boxplot(column = \"salary\", figsize=(5, 5))\n",
    "plt.title(\"Before Outlier Removal\")\n",
    "plt.show()"
   ]
  },
  {
   "cell_type": "code",
   "execution_count": 15,
   "id": "e5cbd0ba",
   "metadata": {},
   "outputs": [
    {
     "data": {
      "image/png": "[encoded data removed]",
      "text/plain": [
       "<Figure size 720x360 with 1 Axes>"
      ]
     },
     "metadata": {
      "needs_background": "light"
     },
     "output_type": "display_data"
    }
   ],
   "source": [
    "jobs_data.boxplot(column = [\"total_skills\", \"experience\"], figsize=(10, 5))\n",
    "plt.title(\"Before Outlier Removal\")\n",
    "plt.show()"
   ]
  },
  {
   "cell_type": "code",
   "execution_count": 16,
   "id": "b67d72a0",
   "metadata": {},
   "outputs": [],
   "source": [
    "jobs_data[\"outlier\"] = 0\n",
    "\n",
    "for col in [\"salary\", \"total_skills\", \"experience\"]:\n",
    "    \n",
    "    q3, q1 = np.percentile(jobs_data[col], [75 ,25])\n",
    "    iqr = q3 - q1\n",
    "\n",
    "    upper = q3 + (1.5*iqr)\n",
    "    lower = q1 - (1.5*iqr)\n",
    "    jobs_data.loc[((jobs_data[col] < lower) | (jobs_data[col] > upper)), \"outlier\"] = 1\n",
    "\n",
    "jobs_data = jobs_data[jobs_data[\"outlier\"] == 0]\n",
    "del jobs_data[\"outlier\"]"
   ]
  },
  {
   "cell_type": "code",
   "execution_count": 17,
   "id": "68ad9a43",
   "metadata": {},
   "outputs": [
    {
     "data": {
      "image/png": "[encoded data removed]",
      "text/plain": [
       "<Figure size 360x360 with 1 Axes>"
      ]
     },
     "metadata": {
      "needs_background": "light"
     },
     "output_type": "display_data"
    }
   ],
   "source": [
    "jobs_data.boxplot(column = \"salary\", figsize=(5, 5))\n",
    "plt.title(\"After Outlier Removal\")\n",
    "plt.show()"
   ]
  },
  {
   "cell_type": "code",
   "execution_count": 18,
   "id": "b59df50d",
   "metadata": {},
   "outputs": [
    {
     "data": {
      "image/png": "[encoded data removed]",
      "text/plain": [
       "<Figure size 720x360 with 1 Axes>"
      ]
     },
     "metadata": {
      "needs_background": "light"
     },
     "output_type": "display_data"
    }
   ],
   "source": [
    "jobs_data.boxplot(column = [\"total_skills\", \"experience\"], figsize=(10, 5))\n",
    "plt.title(\"After Outlier Removal\")\n",
    "plt.show()"
   ]
  },
  {
   "cell_type": "code",
   "execution_count": 19,
   "id": "95ed89e3",
   "metadata": {},
   "outputs": [
    {
     "data": {
      "image/png": "[encoded data removed]",
      "text/plain": [
       "<Figure size 720x360 with 1 Axes>"
      ]
     },
     "metadata": {
      "needs_background": "light"
     },
     "output_type": "display_data"
    }
   ],
   "source": [
    "plt.figure(figsize = (10,5))\n",
    "plt.hist(jobs_data[~jobs_data[\"salary\"].isnull()][\"salary\"], range=[0,225000], edgecolor = \"#000000\")\n",
    "plt.ylabel(\"count\")\n",
    "plt.xlabel(\"Range of salaries\")\n",
    "plt.show()"
   ]
  },
  {
   "cell_type": "markdown",
   "id": "261b3d87",
   "metadata": {},
   "source": [
    "# Save Cleaned data"
   ]
  },
  {
   "cell_type": "code",
   "execution_count": 20,
   "id": "631f7697",
   "metadata": {},
   "outputs": [],
   "source": [
    "jobs_data.to_csv(final_cleaned_data, index = False)"
   ]
  }
 ],
 "metadata": {
  "kernelspec": {
   "display_name": "Python 3 (ipykernel)",
   "language": "python",
   "name": "python3"
  },
  "language_info": {
   "codemirror_mode": {
    "name": "ipython",
    "version": 3
   },
   "file_extension": ".py",
   "mimetype": "text/x-python",
   "name": "python",
   "nbconvert_exporter": "python",
   "pygments_lexer": "ipython3",
   "version": "3.9.12"
  }
 },
 "nbformat": 4,
 "nbformat_minor": 5
}
